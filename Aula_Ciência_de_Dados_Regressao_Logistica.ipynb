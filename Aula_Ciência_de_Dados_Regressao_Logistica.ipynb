{
  "nbformat": 4,
  "nbformat_minor": 0,
  "metadata": {
    "colab": {
      "name": "Aula - Ciência de Dados - Regressao Logistica.ipynb",
      "provenance": [],
      "collapsed_sections": []
    },
    "kernelspec": {
      "name": "python3",
      "display_name": "Python 3"
    },
    "language_info": {
      "name": "python"
    }
  },
  "cells": [
    {
      "cell_type": "markdown",
      "source": [
        "# **Turma de Pós-Graduação de Ciência de Dados**\n",
        "\n",
        "**Disciplina: Estatística Aplicada a Negócios**\n",
        "\n",
        "**prof: Sérgio Assunção Monteiro, DSc**\n",
        "\n",
        "**Regressão Logística**"
      ],
      "metadata": {
        "id": "A5e3gTCjSeqM"
      }
    },
    {
      "cell_type": "markdown",
      "source": [
        "> github: https://github.com/sergiomonteiro76\n",
        "\n",
        "\n",
        "> linkedin: https://www.linkedin.com/in/sergio-assun%C3%A7%C3%A3o-monteiro-b781897b/\n",
        "\n",
        "> lattes: http://lattes.cnpq.br/9489191035734025\n"
      ],
      "metadata": {
        "id": "KICRe15axzP0"
      }
    },
    {
      "cell_type": "markdown",
      "source": [
        "# **Carregar os Dados**"
      ],
      "metadata": {
        "id": "oO3uz5YSs0CS"
      }
    },
    {
      "cell_type": "code",
      "execution_count": 62,
      "metadata": {
        "id": "JrlKCa_USWyq"
      },
      "outputs": [],
      "source": [
        "from sklearn.datasets import load_digits\n",
        "digitos = load_digits()"
      ]
    },
    {
      "cell_type": "code",
      "source": [
        "#Existem 1797 imagens, sendo que cada uma tem uma dimensão 8 x 8 = 64)\n",
        "print(\"Shape dos dados de imagens:{}\".format(digitos.data.shape))\n",
        "# Apresentar o total de dados rotulados com inteiros de 0 a 9\n",
        "print(\"Shape dos dados rotulados: {}\".format(digitos.target.shape))"
      ],
      "metadata": {
        "colab": {
          "base_uri": "https://localhost:8080/"
        },
        "id": "ejyeXIGOTutt",
        "outputId": "33fb8722-6fa2-4bfd-96c0-6c9ebbb8fa37"
      },
      "execution_count": 63,
      "outputs": [
        {
          "output_type": "stream",
          "name": "stdout",
          "text": [
            "Shape dos dados de imagens:(1797, 64)\n",
            "Shape dos dados rotulados: (1797,)\n"
          ]
        }
      ]
    },
    {
      "cell_type": "code",
      "source": [
        "import numpy as np \n",
        "import matplotlib.pyplot as plt\n",
        "plt.figure(figsize=(14,4))\n",
        "for index, (imagem, rotulo) in enumerate(zip(digitos.data[0:5], \n",
        "                                           digitos.target[0:5])):\n",
        " plt.subplot(1, 5, index + 1)\n",
        " plt.imshow(np.reshape(imagem, (8,8)), \n",
        "            cmap=plt.cm.gray)\n",
        " plt.title('Treinamento: {}\\n'.format(rotulo, fontsize = 15))"
      ],
      "metadata": {
        "colab": {
          "base_uri": "https://localhost:8080/",
          "height": 214
        },
        "id": "B2_7cC8iTydN",
        "outputId": "fdf186f9-4abb-4925-c774-47df009daaef"
      },
      "execution_count": 64,
      "outputs": [
        {
          "output_type": "display_data",
          "data": {
            "image/png": "[encoded data removed]",
            "text/plain": [
              "<Figure size 1008x288 with 5 Axes>"
            ]
          },
          "metadata": {
            "needs_background": "light"
          }
        }
      ]
    },
    {
      "cell_type": "markdown",
      "source": [
        "# **Treinamento**"
      ],
      "metadata": {
        "id": "S356bmuRsRnu"
      }
    },
    {
      "cell_type": "code",
      "source": [
        "from sklearn.model_selection import train_test_split\n",
        "x_treino, x_teste, y_treino, y_teste = train_test_split(digitos.data, \n",
        "                                   digitos.target, \n",
        "                                   test_size=0.25, \n",
        "                                   random_state=0)"
      ],
      "metadata": {
        "id": "lI8PvN2NT1nN"
      },
      "execution_count": 65,
      "outputs": []
    },
    {
      "cell_type": "code",
      "source": [
        "from sklearn.linear_model import LogisticRegression\n",
        "from sklearn.pipeline import make_pipeline\n",
        "from sklearn.preprocessing import StandardScaler\n",
        "pipe = make_pipeline(StandardScaler(), \n",
        "                     LogisticRegression())\n",
        "pipe.fit(x_treino, y_treino)"
      ],
      "metadata": {
        "colab": {
          "base_uri": "https://localhost:8080/"
        },
        "id": "rlgBb9H1nqbS",
        "outputId": "4be4055d-9aeb-4172-ca00-6348fa999310"
      },
      "execution_count": 66,
      "outputs": [
        {
          "output_type": "execute_result",
          "data": {
            "text/plain": [
              "Pipeline(steps=[('standardscaler', StandardScaler()),\n",
              "                ('logisticregression', LogisticRegression())])"
            ]
          },
          "metadata": {},
          "execution_count": 66
        }
      ]
    },
    {
      "cell_type": "markdown",
      "source": [
        "# **Predição (Classificação)**"
      ],
      "metadata": {
        "id": "wT3vipsPr43T"
      }
    },
    {
      "cell_type": "code",
      "source": [
        "x_teste[0]"
      ],
      "metadata": {
        "colab": {
          "base_uri": "https://localhost:8080/"
        },
        "id": "VWiTi3j3srYL",
        "outputId": "f162ff7c-bb96-459a-abc9-84bb6274ad11"
      },
      "execution_count": 67,
      "outputs": [
        {
          "output_type": "execute_result",
          "data": {
            "text/plain": [
              "array([ 0.,  0., 11., 16., 15.,  3.,  0.,  0.,  0.,  5., 16., 12., 11.,\n",
              "       13.,  0.,  0.,  0.,  3., 13.,  1.,  5., 15.,  0.,  0.,  0.,  0.,\n",
              "        0.,  0., 12., 11.,  0.,  0.,  0.,  0.,  0.,  1., 16.,  7.,  0.,\n",
              "        0.,  0.,  0.,  0., 10., 15.,  0.,  0.,  0.,  0.,  0., 12., 16.,\n",
              "       16., 11.,  1.,  0.,  0.,  0., 13., 13.,  8., 13., 16.,  8.])"
            ]
          },
          "metadata": {},
          "execution_count": 67
        }
      ]
    },
    {
      "cell_type": "code",
      "source": [
        "#Aplicar a transformação dos dados para um Tensor\n",
        "x_teste[0].reshape(1,-1) "
      ],
      "metadata": {
        "colab": {
          "base_uri": "https://localhost:8080/"
        },
        "id": "kT3ieHBlsob9",
        "outputId": "bda6c52f-3122-42c4-8d2e-c64fca63518e"
      },
      "execution_count": 69,
      "outputs": [
        {
          "output_type": "execute_result",
          "data": {
            "text/plain": [
              "array([[ 0.,  0., 11., 16., 15.,  3.,  0.,  0.,  0.,  5., 16., 12., 11.,\n",
              "        13.,  0.,  0.,  0.,  3., 13.,  1.,  5., 15.,  0.,  0.,  0.,  0.,\n",
              "         0.,  0., 12., 11.,  0.,  0.,  0.,  0.,  0.,  1., 16.,  7.,  0.,\n",
              "         0.,  0.,  0.,  0., 10., 15.,  0.,  0.,  0.,  0.,  0., 12., 16.,\n",
              "        16., 11.,  1.,  0.,  0.,  0., 13., 13.,  8., 13., 16.,  8.]])"
            ]
          },
          "metadata": {},
          "execution_count": 69
        }
      ]
    },
    {
      "cell_type": "code",
      "source": [
        "previsto=pipe.predict(x_teste[0].reshape(1,-1))\n",
        "real = y_teste[0]\n",
        "print('previsto:{}; real:{}'.format(previsto[0], real))"
      ],
      "metadata": {
        "colab": {
          "base_uri": "https://localhost:8080/"
        },
        "id": "A1MahtnEoBJv",
        "outputId": "137f5ab1-1809-48e9-f618-a1d9666167ca"
      },
      "execution_count": 73,
      "outputs": [
        {
          "output_type": "stream",
          "name": "stdout",
          "text": [
            "previsto:2; real:2\n"
          ]
        }
      ]
    },
    {
      "cell_type": "code",
      "source": [
        "classificacoes = pipe.predict(x_teste[0:10])\n",
        "reais = y_teste[0:10]\n",
        "print('previsto:{}; real:{}'.format(classificacoes, reais))"
      ],
      "metadata": {
        "colab": {
          "base_uri": "https://localhost:8080/"
        },
        "id": "WmijFboNUAZc",
        "outputId": "0f200e67-9462-4a72-fbd1-3e4f7d22b48b"
      },
      "execution_count": 74,
      "outputs": [
        {
          "output_type": "stream",
          "name": "stdout",
          "text": [
            "previsto:[2 8 2 6 6 7 1 9 8 5]; real:[2 8 2 6 6 7 1 9 8 5]\n"
          ]
        }
      ]
    },
    {
      "cell_type": "code",
      "source": [
        "y_pred = pipe.predict(x_teste)"
      ],
      "metadata": {
        "id": "Zgd4grA4osCP"
      },
      "execution_count": 75,
      "outputs": []
    },
    {
      "cell_type": "code",
      "source": [
        "# Uso do método \"score\" para obter a acurácia do modelo\n",
        "score = pipe.score(x_teste, y_teste)\n",
        "print(score)"
      ],
      "metadata": {
        "colab": {
          "base_uri": "https://localhost:8080/"
        },
        "id": "wc8WVbWIUIXb",
        "outputId": "9b0b61aa-a5e5-4b32-bebc-e75e8e5bc5f4"
      },
      "execution_count": 76,
      "outputs": [
        {
          "output_type": "stream",
          "name": "stdout",
          "text": [
            "0.9666666666666667\n"
          ]
        }
      ]
    },
    {
      "cell_type": "markdown",
      "source": [
        "# **Matriz de Confusão**"
      ],
      "metadata": {
        "id": "WP2njBQ8rkjU"
      }
    },
    {
      "cell_type": "markdown",
      "source": [
        "**Matriz de Confusão**"
      ],
      "metadata": {
        "id": "JrCBGmuDryW0"
      }
    },
    {
      "cell_type": "code",
      "source": [
        "import matplotlib.pyplot as plt\n",
        "import seaborn as sns\n",
        "from sklearn import metrics"
      ],
      "metadata": {
        "id": "lPY3fva3UKBz"
      },
      "execution_count": 85,
      "outputs": []
    },
    {
      "cell_type": "code",
      "source": [
        "matriz_de_confusao = metrics.confusion_matrix(y_teste, \n",
        "                              y_pred)\n",
        "print(matriz_de_confusao)"
      ],
      "metadata": {
        "colab": {
          "base_uri": "https://localhost:8080/"
        },
        "id": "arHR_9NHULoD",
        "outputId": "204a2e7e-1ba6-4321-b0b9-5ec6791170f1"
      },
      "execution_count": 86,
      "outputs": [
        {
          "output_type": "stream",
          "name": "stdout",
          "text": [
            "[[37  0  0  0  0  0  0  0  0  0]\n",
            " [ 0 40  0  0  0  0  0  0  2  1]\n",
            " [ 0  0 43  1  0  0  0  0  0  0]\n",
            " [ 0  0  0 44  0  0  0  0  1  0]\n",
            " [ 0  0  0  0 37  0  0  1  0  0]\n",
            " [ 0  0  0  0  0 46  0  0  0  2]\n",
            " [ 0  1  0  0  0  0 51  0  0  0]\n",
            " [ 0  0  0  0  1  0  0 47  0  0]\n",
            " [ 0  3  1  0  0  0  0  0 44  0]\n",
            " [ 0  0  0  0  0  1  0  0  0 46]]\n"
          ]
        }
      ]
    },
    {
      "cell_type": "markdown",
      "source": [
        "**Visualização da Matriz de Confusão**"
      ],
      "metadata": {
        "id": "zF9F7UGQuqUc"
      }
    },
    {
      "cell_type": "code",
      "source": [
        "plt.figure(figsize=(9,9))\n",
        "sns.heatmap(matriz_de_confusao, \n",
        "            annot=True, \n",
        "            fmt=\".3f\", \n",
        "            linewidths=.5, \n",
        "            square = True, \n",
        "            cmap = 'YlGnBu');\n",
        "plt.ylabel('Rótulo atual');\n",
        "plt.xlabel('Rótulo previsto(classificado)');\n",
        "titulos_todas_amostras = 'Score de Acurácia: {0}'.format(score)\n",
        "plt.title(titulos_todas_amostras, size = 15);"
      ],
      "metadata": {
        "colab": {
          "base_uri": "https://localhost:8080/",
          "height": 526
        },
        "id": "tEUmTskbUOpc",
        "outputId": "bc20bdae-e4cb-4e00-d3a0-33c5d1eaa9f3"
      },
      "execution_count": 91,
      "outputs": [
        {
          "output_type": "display_data",
          "data": {
            "image/png": "[encoded data removed]",
            "text/plain": [
              "<Figure size 648x648 with 2 Axes>"
            ]
          },
          "metadata": {
            "needs_background": "light"
          }
        }
      ]
    }
  ]
}